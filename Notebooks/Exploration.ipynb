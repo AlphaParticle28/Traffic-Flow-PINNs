{
 "cells": [
  {
   "cell_type": "code",
   "execution_count": 1,
   "id": "8908f9a4",
   "metadata": {},
   "outputs": [],
   "source": [
    "import sys\n",
    "sys.path.append('../')"
   ]
  },
  {
   "cell_type": "code",
   "execution_count": 2,
   "id": "d7b57032",
   "metadata": {},
   "outputs": [],
   "source": [
    "from Scripts.pinn_model import TrafficFlowForLWR_PINN, TrafficFlowForARZ_PINN\n",
    "from Scripts.physics import lwr_pde_residual, physics_loss_calculator\n",
    "import torch\n",
    "import matplotlib.pyplot as plt\n",
    "import pandas as pd"
   ]
  },
  {
   "cell_type": "code",
   "execution_count": null,
   "id": "25aab8fb",
   "metadata": {},
   "outputs": [],
   "source": [
    "x_data = pd.read_csv('peachtree_dir2_lane1_10m_1s_10min.csv')"
   ]
  },
  {
   "cell_type": "code",
   "execution_count": 4,
   "id": "12491c62",
   "metadata": {},
   "outputs": [],
   "source": [
    "x = torch.tensor(x_data['x_nd'].values, dtype=torch.float32).reshape(-1,1)\n",
    "t = torch.tensor(x_data['t_nd'].values, dtype=torch.float32).reshape(-1,1)\n",
    "rho = torch.tensor(x_data['rho_nd'].values, dtype=torch.float32).reshape(-1,1)\n",
    "u = torch.tensor(x_data['u_nd'].values, dtype=torch.float32).reshape(-1,1)\n",
    "mask = torch.tensor(x_data['mask'].values, dtype=torch.bool).reshape(-1,1)"
   ]
  },
  {
   "cell_type": "code",
   "execution_count": 5,
   "id": "27dd86a9",
   "metadata": {},
   "outputs": [],
   "source": [
    "valid_idx = mask.squeeze(1)\n",
    "x, t, rho, u = x[valid_idx], t[valid_idx], rho[valid_idx], u[valid_idx]"
   ]
  },
  {
   "cell_type": "code",
   "execution_count": 6,
   "id": "7e7fb874",
   "metadata": {},
   "outputs": [
    {
     "name": "stdout",
     "output_type": "stream",
     "text": [
      "Epoch 0, Loss: 0.155990\n",
      "Epoch 100, Loss: 0.046716\n",
      "Epoch 200, Loss: 0.037366\n",
      "Epoch 300, Loss: 0.037042\n",
      "Epoch 400, Loss: 0.036966\n",
      "Epoch 500, Loss: 0.036922\n",
      "Epoch 600, Loss: 0.036896\n",
      "Epoch 700, Loss: 0.037008\n",
      "Epoch 800, Loss: 0.036859\n",
      "Epoch 900, Loss: 0.036903\n"
     ]
    }
   ],
   "source": [
    "\"\"\" ### LWR Model Approximation using PINNs ###\"\"\"\n",
    "\n",
    "model = TrafficFlowForLWR_PINN(hidden_layers=8, neurons_per_layer=20)\n",
    "optimizer = torch.optim.Adam(model.parameters(), lr=0.001)\n",
    "\n",
    "alpha = 1\n",
    "beta = 1\n",
    "num_epochs = 1000\n",
    "\n",
    "for epoch in range(num_epochs):\n",
    "    optimizer.zero_grad()\n",
    "\n",
    "    # Data loss on known density values only\n",
    "    data_loss = torch.mean((model(x, t) - rho)**2)\n",
    "    # Physics loss\n",
    "    physics_loss = torch.mean(lwr_pde_residual(model, x, t)**2)\n",
    "    total_loss = alpha * data_loss + beta * physics_loss\n",
    "\n",
    "    total_loss.backward()\n",
    "    optimizer.step()\n",
    "\n",
    "    if epoch % 100 == 0:\n",
    "        print(f\"Epoch {epoch}, Loss: {total_loss.item():.6f}\")"
   ]
  },
  {
   "cell_type": "code",
   "execution_count": 7,
   "id": "965f7c0d",
   "metadata": {},
   "outputs": [
    {
     "name": "stdout",
     "output_type": "stream",
     "text": [
      "Epoch 0, Loss: 5.588935\n",
      "Epoch 100, Loss: 0.439679\n",
      "Epoch 200, Loss: 0.438705\n",
      "Epoch 300, Loss: 0.438464\n",
      "Epoch 400, Loss: 0.438259\n",
      "Epoch 500, Loss: 0.438064\n",
      "Epoch 600, Loss: 0.437879\n",
      "Epoch 700, Loss: 0.437705\n",
      "Epoch 800, Loss: 0.437540\n",
      "Epoch 900, Loss: 0.437383\n"
     ]
    }
   ],
   "source": [
    "# Initialize ARZ model\n",
    "model = TrafficFlowForARZ_PINN(hidden_layers=8, neurons_per_layer=20)\n",
    "optimizer = torch.optim.Adam(model.parameters(), lr=0.001)\n",
    "\n",
    "num_epochs = 1000\n",
    "\n",
    "for epoch in range(num_epochs):\n",
    "    optimizer.zero_grad()\n",
    "\n",
    "    pred = model(x, t)\n",
    "    rho_pred, u_pred = pred[:, 0:1], pred[:, 1:2]\n",
    "\n",
    "    # Data loss for density and velocity with real values\n",
    "    data_loss_rho = torch.mean((rho_pred - rho)**2)\n",
    "    data_loss_u = torch.mean((u_pred - u)**2)\n",
    "\n",
    "    # Physics loss\n",
    "    physics_loss = physics_loss_calculator(x, t, model, beta1=1.0, beta2=1.0, \n",
    "                                         gamma1=1.0, gamma2=1.0, tau=0.02)\n",
    "\n",
    "    total_loss = data_loss_rho + data_loss_u + physics_loss\n",
    "\n",
    "    total_loss.backward()\n",
    "    optimizer.step()\n",
    "\n",
    "    if epoch % 100 == 0:\n",
    "        print(f\"Epoch {epoch}, Loss: {total_loss.item():.6f}\")"
   ]
  }
 ],
 "metadata": {
  "kernelspec": {
   "display_name": "Python 3",
   "language": "python",
   "name": "python3"
  },
  "language_info": {
   "codemirror_mode": {
    "name": "ipython",
    "version": 3
   },
   "file_extension": ".py",
   "mimetype": "text/x-python",
   "name": "python",
   "nbconvert_exporter": "python",
   "pygments_lexer": "ipython3",
   "version": "3.12.3"
  }
 },
 "nbformat": 4,
 "nbformat_minor": 5
}
