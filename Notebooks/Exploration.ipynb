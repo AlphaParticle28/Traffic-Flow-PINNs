{
 "cells": [
  {
   "cell_type": "code",
   "execution_count": null,
   "id": "8908f9a4",
   "metadata": {},
   "outputs": [],
   "source": [
    "import sys\n",
    "sys.path.append('../')"
   ]
  },
  {
   "cell_type": "code",
   "execution_count": null,
   "id": "d7b57032",
   "metadata": {},
   "outputs": [],
   "source": [
    "\n",
    "from Scripts.pinn_model import TrafficFlowForLWR_PINN, TrafficFlowForARZ_PINN\n",
    "from Scripts.physics import lwr_pde_residual, physics_loss_calculator\n",
    "import torch\n",
    "import matplotlib.pyplot as plt"
   ]
  },
  {
   "cell_type": "code",
   "execution_count": null,
   "id": "25aab8fb",
   "metadata": {},
   "outputs": [],
   "source": [
    "# Create meshgrid for proper tensor shapes\n",
    "x_range = torch.linspace(0, 10000, 100)\n",
    "t_range = torch.linspace(0, 3600, 50)\n",
    "X, T = torch.meshgrid(x_range, t_range, indexing='ij')\n",
    "x = X.reshape(-1, 1)\n",
    "t = T.reshape(-1, 1)\n",
    "\n",
    "# Correct ground truth functions\n",
    "ground_truth_rho = lambda x, t: torch.sin(x / 1000) * torch.exp(-t / 3600)\n",
    "ground_truth_u = lambda x, t: torch.cos(x / 1000) * torch.exp(-t / 3600)"
   ]
  },
  {
   "cell_type": "code",
   "execution_count": null,
   "id": "20bd7de7",
   "metadata": {},
   "outputs": [],
   "source": [
    "\"\"\" ### LWR Model Approximation using PINNs ###\"\"\"\n",
    "\n",
    "# Initialize model\n",
    "model = TrafficFlowForLWR_PINN(hidden_layers=8, neurons_per_layer=20, outputs=1)\n",
    "optimizer = torch.optim.Adam(model.parameters(), lr=0.001)\n",
    "\n",
    "alpha = 1\n",
    "beta = 1\n",
    "# Training loop (start simple)\n",
    "for epoch in range(1000):\n",
    "    optimizer.zero_grad()\n",
    "\n",
    "    data_loss = torch.mean((model(x, t) - ground_truth_rho(x, t))**2)\n",
    "    # Compute physics loss\n",
    "    physics_loss = torch.mean(lwr_pde_residual(model, x, t)**2)\n",
    "\n",
    "    # Add boundary/initial conditions (implement these next)\n",
    "    total_loss = alpha * data_loss + beta * physics_loss\n",
    "    \n",
    "    total_loss.backward()\n",
    "    optimizer.step()\n",
    "    \n",
    "    if epoch % 100 == 0:\n",
    "        print(f\"Epoch {epoch}, Loss: {total_loss.item():.6f}\")\n"
   ]
  },
  {
   "cell_type": "code",
   "execution_count": null,
   "id": "965f7c0d",
   "metadata": {},
   "outputs": [],
   "source": [
    "# Initialize ARZ model\n",
    "model = TrafficFlowForARZ_PINN(hidden_layers=8, neurons_per_layer=20)\n",
    "optimizer = torch.optim.Adam(model.parameters(), lr=0.001)\n",
    "\n",
    "for epoch in range(1000):\n",
    "    optimizer.zero_grad()\n",
    "    \n",
    "    # Get predictions\n",
    "    pred = model(x, t)  # shape (N, 2)\n",
    "    rho_pred, u_pred = pred[:, 0:1], pred[:, 1:2]  # each (N, 1)\n",
    "    \n",
    "    # Ground truth\n",
    "    rho_true = ground_truth_rho(x, t).reshape(-1, 1)\n",
    "    u_true = ground_truth_u(x, t).reshape(-1, 1)\n",
    "    \n",
    "    # Data loss\n",
    "    data_loss_rho = torch.mean((rho_pred - rho_true)**2)\n",
    "    data_loss_u = torch.mean((u_pred - u_true)**2)\n",
    "    \n",
    "    # Physics loss\n",
    "    physics_loss = physics_loss_calculator(x, t, model, beta1=1.0, beta2=1.0,\n",
    "                                         gamma1=1.0, gamma2=1.0, tau=0.02)\n",
    "    \n",
    "    total_loss = data_loss_rho + data_loss_u + physics_loss\n",
    "    \n",
    "    total_loss.backward()\n",
    "    optimizer.step()\n",
    "    \n",
    "    if epoch % 100 == 0:\n",
    "        print(f\"Epoch {epoch}, Loss: {total_loss.item():.6f}\")\n"
   ]
  }
 ],
 "metadata": {
  "kernelspec": {
   "display_name": "Python 3",
   "language": "python",
   "name": "python3"
  },
  "language_info": {
   "codemirror_mode": {
    "name": "ipython",
    "version": 3
   },
   "file_extension": ".py",
   "mimetype": "text/x-python",
   "name": "python",
   "nbconvert_exporter": "python",
   "pygments_lexer": "ipython3",
   "version": "3.12.3"
  }
 },
 "nbformat": 4,
 "nbformat_minor": 5
}
